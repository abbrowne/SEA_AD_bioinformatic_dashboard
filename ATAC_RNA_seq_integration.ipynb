{
 "cells": [
  {
   "cell_type": "code",
   "execution_count": 1,
   "id": "db0d432b-5947-4d25-b413-eb862d02daef",
   "metadata": {},
   "outputs": [
    {
     "name": "stderr",
     "output_type": "stream",
     "text": [
      "/home/xetrin/miniconda3/envs/rna_atac_env/lib/python3.10/site-packages/sorted_nearest/__init__.py:1: UserWarning: pkg_resources is deprecated as an API. See https://setuptools.pypa.io/en/latest/pkg_resources.html. The pkg_resources package is slated for removal as early as 2025-11-30. Refrain from using this package or pin to Setuptools<81.\n",
      "  import pkg_resources\n"
     ]
    }
   ],
   "source": [
    "import scanpy as sc\n",
    "import anndata\n",
    "import pandas as pd\n",
    "import pyranges as pr\n",
    "import pybedtools\n",
    "import sklearn\n",
    "import numpy as np\n",
    "import scipy.sparse as sp\n",
    "from tqdm import tqdm\n"
   ]
  },
  {
   "cell_type": "code",
   "execution_count": 11,
   "id": "f8e1750d-90e5-4395-8904-dcc7feeda169",
   "metadata": {},
   "outputs": [
    {
     "name": "stdout",
     "output_type": "stream",
     "text": [
      "Checkpoint TEST\n"
     ]
    }
   ],
   "source": [
    "print(\"Checkpoint TEST\")"
   ]
  },
  {
   "cell_type": "code",
   "execution_count": 12,
   "id": "ef178f69-87d9-4849-8db8-e387c56490a8",
   "metadata": {},
   "outputs": [
    {
     "name": "stdout",
     "output_type": "stream",
     "text": [
      "AnnData object with n_obs × n_vars = 138118 × 218882\n",
      "    obs: 'sample_id', 'Neurotypical reference', 'Donor ID', 'Organism', 'Brain Region', 'Sex', 'Gender', 'Age at Death', 'Race (choice=White)', 'Race (choice=Black/ African American)', 'Race (choice=Asian)', 'Race (choice=American Indian/ Alaska Native)', 'Race (choice=Native Hawaiian or Pacific Islander)', 'Race (choice=Unknown or unreported)', 'Race (choice=Other)', 'specify other race', 'Hispanic/Latino', 'Highest level of education', 'Years of education', 'PMI', 'Fresh Brain Weight', 'Brain pH', 'Overall AD neuropathological Change', 'Thal', 'Braak', 'CERAD score', 'Overall CAA Score', 'Highest Lewy Body Disease', 'Total Microinfarcts (not observed grossly)', 'Total microinfarcts in screening sections', 'Atherosclerosis', 'Arteriolosclerosis', 'LATE', 'Cognitive Status', 'Last CASI Score', 'Interval from last CASI in months', 'Last MMSE Score', 'Interval from last MMSE in months', 'Last MOCA Score', 'Interval from last MOCA in months', 'APOE Genotype', 'Primary Study Name', 'Secondary Study Name', 'cell_prep_type', 'facs_population_plan', 'rna_amplification', 'sample_name', 'sample_quantity_count', 'expc_cell_capture', 'method', 'pcr_cycles', 'percent_cdna_longer_than_400bp', 'rna_amplification_pass_fail', 'load_name', 'library_prep', 'library_input_ng', 'r1_index', 'avg_size_bp', 'quantification_fmol', 'library_prep_pass_fail', 'exp_component_vendor_name', 'batch_vendor_name', 'experiment_component_failed', 'alignment', 'Genome', 'ar_id', 'bc', 'GEX_Estimated_number_of_cells', 'GEX_number_of_reads', 'GEX_Mean_raw_reads_per_cell', 'GEX_Q30_bases_in_barcode', 'GEX_Q30_bases_in_read_2', 'GEX_Q30_bases_in_UMI', 'GEX_Percent_duplicates', 'GEX_Q30_bases_in_sample_index_i1', 'GEX_Q30_bases_in_sample_index_i2', 'GEX_Reads_with_TSO', 'GEX_Sequenced_read_pairs', 'GEX_Valid_UMIs', 'GEX_Valid_barcodes', 'GEX_Reads_mapped_to_genome', 'GEX_Reads_mapped_confidently_to_genome', 'GEX_Reads_mapped_confidently_to_intergenic_regions', 'GEX_Reads_mapped_confidently_to_intronic_regions', 'GEX_Reads_mapped_confidently_to_exonic_regions', 'GEX_Reads_mapped_confidently_to_transcriptome', 'GEX_Reads_mapped_antisense_to_gene', 'GEX_Fraction_of_transcriptomic_reads_in_cells', 'GEX_Total_genes_detected', 'GEX_Median_UMI_counts_per_cell', 'GEX_Median_genes_per_cell', 'Multiome_Feature_linkages_detected', 'Multiome_Linked_genes', 'Multiome_Linked_peaks', 'ATAC_Confidently_mapped_read_pairs', 'ATAC_Fraction_of_genome_in_peaks', 'ATAC_Fraction_of_high_quality_fragments_in_cells', 'ATAC_Fraction_of_high_quality_fragments_overlapping_TSS', 'ATAC_Fraction_of_high_quality_fragments_overlapping_peaks', 'ATAC_Fraction_of_transposition_events_in_peaks_in_cells', 'ATAC_Mean_raw_read_pairs_per_cell', 'ATAC_Median_high_quality_fragments_per_cell', 'ATAC_Non-nuclear_read_pairs', 'ATAC_Number_of_peaks', 'ATAC_Percent_duplicates', 'ATAC_Q30_bases_in_barcode', 'ATAC_Q30_bases_in_read_1', 'ATAC_Q30_bases_in_read_2', 'ATAC_Q30_bases_in_sample_index_i1', 'ATAC_Sequenced_read_pairs', 'ATAC_TSS_enrichment_score', 'ATAC_Unmapped_read_pairs', 'ATAC_Valid_barcodes', 'Number of UMIs', 'Genes detected', 'Doublet score', 'Fraction mitochondrial UMIs', 'Used in analysis', 'Class confidence', 'Class', 'Subclass confidence', 'Subclass', 'Supertype confidence', 'Supertype (non-expanded)', 'Supertype', 'RNA Quality Control Score', 'Quality Control Clusters', 'Continuous Pseudo-progression Score', 'Severely Affected Donor', 'donor_id'\n",
      "    var: 'gene_ids', 'feature_types'\n",
      "    uns: 'data_type', 'seurat_version'\n",
      "    obsm: 'X_MultiVI', 'X_umap'\n",
      "AnnData object with n_obs × n_vars = 138118 × 218882\n",
      "    obs: 'sample_id', 'Neurotypical reference', 'Donor ID', 'Organism', 'Brain Region', 'Sex', 'Gender', 'Age at Death', 'Race (choice=White)', 'Race (choice=Black/ African American)', 'Race (choice=Asian)', 'Race (choice=American Indian/ Alaska Native)', 'Race (choice=Native Hawaiian or Pacific Islander)', 'Race (choice=Unknown or unreported)', 'Race (choice=Other)', 'specify other race', 'Hispanic/Latino', 'Highest level of education', 'Years of education', 'PMI', 'Fresh Brain Weight', 'Brain pH', 'Overall AD neuropathological Change', 'Thal', 'Braak', 'CERAD score', 'Overall CAA Score', 'Highest Lewy Body Disease', 'Total Microinfarcts (not observed grossly)', 'Total microinfarcts in screening sections', 'Atherosclerosis', 'Arteriolosclerosis', 'LATE', 'Cognitive Status', 'Last CASI Score', 'Interval from last CASI in months', 'Last MMSE Score', 'Interval from last MMSE in months', 'Last MOCA Score', 'Interval from last MOCA in months', 'APOE Genotype', 'Primary Study Name', 'Secondary Study Name', 'cell_prep_type', 'facs_population_plan', 'rna_amplification', 'sample_name', 'sample_quantity_count', 'expc_cell_capture', 'method', 'pcr_cycles', 'percent_cdna_longer_than_400bp', 'rna_amplification_pass_fail', 'load_name', 'library_prep', 'library_input_ng', 'r1_index', 'avg_size_bp', 'quantification_fmol', 'library_prep_pass_fail', 'exp_component_vendor_name', 'batch_vendor_name', 'experiment_component_failed', 'alignment', 'Genome', 'ar_id', 'bc', 'GEX_Estimated_number_of_cells', 'GEX_number_of_reads', 'GEX_Mean_raw_reads_per_cell', 'GEX_Q30_bases_in_barcode', 'GEX_Q30_bases_in_read_2', 'GEX_Q30_bases_in_UMI', 'GEX_Percent_duplicates', 'GEX_Q30_bases_in_sample_index_i1', 'GEX_Q30_bases_in_sample_index_i2', 'GEX_Reads_with_TSO', 'GEX_Sequenced_read_pairs', 'GEX_Valid_UMIs', 'GEX_Valid_barcodes', 'GEX_Reads_mapped_to_genome', 'GEX_Reads_mapped_confidently_to_genome', 'GEX_Reads_mapped_confidently_to_intergenic_regions', 'GEX_Reads_mapped_confidently_to_intronic_regions', 'GEX_Reads_mapped_confidently_to_exonic_regions', 'GEX_Reads_mapped_confidently_to_transcriptome', 'GEX_Reads_mapped_antisense_to_gene', 'GEX_Fraction_of_transcriptomic_reads_in_cells', 'GEX_Total_genes_detected', 'GEX_Median_UMI_counts_per_cell', 'GEX_Median_genes_per_cell', 'Multiome_Feature_linkages_detected', 'Multiome_Linked_genes', 'Multiome_Linked_peaks', 'ATAC_Confidently_mapped_read_pairs', 'ATAC_Fraction_of_genome_in_peaks', 'ATAC_Fraction_of_high_quality_fragments_in_cells', 'ATAC_Fraction_of_high_quality_fragments_overlapping_TSS', 'ATAC_Fraction_of_high_quality_fragments_overlapping_peaks', 'ATAC_Fraction_of_transposition_events_in_peaks_in_cells', 'ATAC_Mean_raw_read_pairs_per_cell', 'ATAC_Median_high_quality_fragments_per_cell', 'ATAC_Non-nuclear_read_pairs', 'ATAC_Number_of_peaks', 'ATAC_Percent_duplicates', 'ATAC_Q30_bases_in_barcode', 'ATAC_Q30_bases_in_read_1', 'ATAC_Q30_bases_in_read_2', 'ATAC_Q30_bases_in_sample_index_i1', 'ATAC_Sequenced_read_pairs', 'ATAC_TSS_enrichment_score', 'ATAC_Unmapped_read_pairs', 'ATAC_Valid_barcodes', 'Number of UMIs', 'Genes detected', 'Doublet score', 'Fraction mitochondrial UMIs', 'Used in analysis', 'Class confidence', 'Class', 'Subclass confidence', 'Subclass', 'Supertype confidence', 'Supertype (non-expanded)', 'Supertype', 'RNA Quality Control Score', 'Quality Control Clusters', 'Continuous Pseudo-progression Score', 'Severely Affected Donor', 'donor_id'\n",
      "    var: 'gene_ids', 'feature_types'\n",
      "    uns: 'data_type', 'seurat_version', 'log1p'\n",
      "    obsm: 'X_MultiVI', 'X_umap'\n"
     ]
    }
   ],
   "source": [
    "atac = sc.read_h5ad(\"/mnt/e/Projects/Brain/SEA_AD_analysis/results/aggregated_multiomic/aggregated_atac_data.h5ad\")  # Peak x Cell matrix\n",
    "print(atac)\n",
    "sc.pp.normalize_total(atac, target_sum=1e4)\n",
    "sc.pp.log1p(atac)\n",
    "print(atac)\n",
    "# Optional: binarize or apply TF-IDF normalization\n"
   ]
  },
  {
   "cell_type": "code",
   "execution_count": 13,
   "id": "02d764c5-24f1-4a8e-9291-8339dec1cbf5",
   "metadata": {},
   "outputs": [
    {
     "name": "stdout",
     "output_type": "stream",
     "text": [
      "                                          gene_ids feature_types\n",
      "chr4:164130572-164131513  chr4:164130572-164131513         Peaks\n",
      "chr4:16412872-16415576      chr4:16412872-16415576         Peaks\n",
      "chr4:164116366-164116739  chr4:164116366-164116739         Peaks\n",
      "chr4:164083047-164083256  chr4:164083047-164083256         Peaks\n",
      "chr4:164056041-164057013  chr4:164056041-164057013         Peaks\n",
      "+--------------+-----------+-----------+-----------+\n",
      "| Chromosome   | Start     | End       | peak_id   |\n",
      "| (category)   | (int64)   | (int64)   | (int64)   |\n",
      "|--------------+-----------+-----------+-----------|\n",
      "| chr1         | 43591097  | 43591599  | 164163    |\n",
      "| chr1         | 43594973  | 43598008  | 164164    |\n",
      "| chr1         | 43598680  | 43599017  | 164165    |\n",
      "| chr1         | 43599915  | 43605694  | 164166    |\n",
      "| ...          | ...       | ...       | ...       |\n",
      "| chrY         | 13478174  | 13480771  | 73098     |\n",
      "| chrY         | 13598891  | 13599575  | 73099     |\n",
      "| chrY         | 9805339   | 9806062   | 186037    |\n",
      "| chrY         | 9809622   | 9810345   | 218881    |\n",
      "+--------------+-----------+-----------+-----------+\n",
      "Unstranded PyRanges object has 218,882 rows and 4 columns from 24 chromosomes.\n",
      "For printing, the PyRanges was sorted on Chromosome.\n"
     ]
    }
   ],
   "source": [
    "print(atac.var.head())\n",
    "peak_coords = atac.var.index.to_series().str.extract(r\"(chr[\\w]+):(\\d+)-(\\d+)\")\n",
    "peak_coords.columns = [\"Chromosome\", \"Start\", \"End\"]\n",
    "peak_coords[\"Start\"] = peak_coords[\"Start\"].astype(int)\n",
    "peak_coords[\"End\"] = peak_coords[\"End\"].astype(int)\n",
    "peak_coords[\"peak_id\"] = np.arange(len(peak_coords))\n",
    "\n",
    "# Create PyRanges object\n",
    "peaks = pr.PyRanges(peak_coords)\n",
    "print(peaks)"
   ]
  },
  {
   "cell_type": "code",
   "execution_count": 14,
   "id": "7c6610b3-6bd0-471e-b0d9-7f37490c7666",
   "metadata": {},
   "outputs": [
    {
     "name": "stdout",
     "output_type": "stream",
     "text": [
      "+--------------+-----------+-----------+------------+\n",
      "| Chromosome   | Start     | End       | Gene       |\n",
      "| (category)   | (int64)   | (int64)   | (object)   |\n",
      "|--------------+-----------+-----------+------------|\n",
      "| chr1         | 3064168   | 3443621   | PRDM16     |\n",
      "| chr1         | 5296928   | 5312394   | nan        |\n",
      "| chr1         | 2398964   | 2418797   | PEX10      |\n",
      "| chr1         | 5487978   | 5499674   | nan        |\n",
      "| ...          | ...       | ...       | ...        |\n",
      "| chrY         | 18686312  | 18729127  | nan        |\n",
      "| chrY         | 18724882  | 18744197  | TTTY9A     |\n",
      "| chrY         | 18475247  | 18489237  | nan        |\n",
      "| chrY         | 18486740  | 18552698  | nan        |\n",
      "+--------------+-----------+-----------+------------+\n",
      "Unstranded PyRanges object has 78,649 rows and 4 columns from 24 chromosomes.\n",
      "For printing, the PyRanges was sorted on Chromosome.\n",
      "       Chromosome     Start       End  peak_id   Start_b     End_b     Gene  \\\n",
      "0            chr1  43591097  43591599   164163  43520187  43628666    PTPRF   \n",
      "1            chr1  43594973  43598008   164164  43520187  43628666    PTPRF   \n",
      "2            chr1  43598680  43599017   164165  43520187  43628666    PTPRF   \n",
      "3            chr1  43599915  43605694   164166  43520187  43628666    PTPRF   \n",
      "4            chr1  43606643  43610260   164167  43520187  43628666    PTPRF   \n",
      "...           ...       ...       ...      ...       ...       ...      ...   \n",
      "218877       chrY  56734754  56734835    72940  56850244  56860488  CTBP2P1   \n",
      "218878       chrY  56763474  56763557    72941  56850244  56860488  CTBP2P1   \n",
      "218879       chrY  56825515  56827750    72969  56850244  56860488  CTBP2P1   \n",
      "218880       chrY  56866375  56867982    72974  56850244  56860488  CTBP2P1   \n",
      "218881       chrY  56868658  56875078    72975  56876849  56887115      NaN   \n",
      "\n",
      "        Distance  \n",
      "0              0  \n",
      "1              0  \n",
      "2              0  \n",
      "3              0  \n",
      "4              0  \n",
      "...          ...  \n",
      "218877    115410  \n",
      "218878     86688  \n",
      "218879     22495  \n",
      "218880      5888  \n",
      "218881      1772  \n",
      "\n",
      "[218882 rows x 8 columns]\n"
     ]
    }
   ],
   "source": [
    "genes_df = pd.read_csv(\"/mnt/e/Projects/Brain/Data/SEAAD/gene_annotations_buffered_5kb.bed\", sep=\"\\t\", names=[\"Chromosome\", \"Start\", \"End\", \"Gene\"])\n",
    "genes = pr.PyRanges(genes_df)\n",
    "print(genes)\n",
    "peak_to_gene = peaks.nearest(genes)\n",
    "peak_to_gene = peak_to_gene.df\n",
    "print(peak_to_gene)\n",
    "#peak_to_gene = peaks.join(genes)\n",
    "#print(peak_to_gene)\n",
    "\n",
    "n_peaks = atac.shape[1]\n",
    "genes = genes_df[\"Gene\"].unique()\n",
    "genes = pd.Series(genes).dropna().to_numpy()"
   ]
  },
  {
   "cell_type": "code",
   "execution_count": 15,
   "id": "19d3298c-5f78-46c4-9702-f8affc24ac35",
   "metadata": {},
   "outputs": [],
   "source": [
    "gene_to_index = {gene: i for i, gene in enumerate(genes)}\n",
    "\n",
    "# Filter valid rows first\n",
    "valid_rows = peak_to_gene[\n",
    "    peak_to_gene[\"Gene\"].isin(gene_to_index) &\n",
    "    peak_to_gene[\"peak_id\"].notnull() &\n",
    "    (peak_to_gene[\"peak_id\"] < n_peaks)\n",
    "].copy()\n",
    "\n",
    "# Map genes to indices\n",
    "valid_rows[\"gene_idx\"] = valid_rows[\"Gene\"].map(gene_to_index)\n",
    "valid_rows[\"peak_idx\"] = valid_rows[\"peak_id\"].astype(int)\n",
    "\n",
    "# Create sparse matrix directly\n",
    "rows = valid_rows[\"peak_idx\"].values\n",
    "cols = valid_rows[\"gene_idx\"].values\n",
    "data = np.ones(len(rows), dtype=np.uint8)\n",
    "\n",
    "peak_gene_map = sp.csr_matrix((data, (rows, cols)), shape=(n_peaks, len(genes)))"
   ]
  },
  {
   "cell_type": "code",
   "execution_count": 16,
   "id": "f61ba199-56f6-4b8e-8ad2-9c564381d5eb",
   "metadata": {},
   "outputs": [
    {
     "name": "stdout",
     "output_type": "stream",
     "text": [
      "Checkpoint A\n",
      "Checkpoint B\n",
      "Checkpoint C\n",
      "Checkpoint D\n",
      "Performing matrix multiplication in batches...\n"
     ]
    },
    {
     "name": "stderr",
     "output_type": "stream",
     "text": [
      "100%|████████████████████████████████████████████████████████████████████████████████████████████████████████████████| 28/28 [00:56<00:00,  2.02s/it]\n"
     ]
    },
    {
     "name": "stdout",
     "output_type": "stream",
     "text": [
      "Checkpoint E\n",
      "Checkpoint F\n"
     ]
    }
   ],
   "source": [
    "print(\"Checkpoint A\")\n",
    "# --- Ensure compatible sparse formats ---\n",
    "atac_X = atac.X.tocsr() if not sp.isspmatrix_csr(atac.X) else atac.X\n",
    "peak_gene_map_csc = peak_gene_map.tocsc()\n",
    "\n",
    "print(\"Checkpoint B\")\n",
    "# --- Precompute normalization weights ---\n",
    "peak_counts_per_gene = np.array(peak_gene_map_csc.sum(axis=0)).flatten()\n",
    "peak_counts_per_gene[peak_counts_per_gene == 0] = 1\n",
    "norm_diag = sp.diags(1 / peak_counts_per_gene)\n",
    "\n",
    "print(\"Checkpoint C\")\n",
    "# --- Batch-wise matrix multiplication ---\n",
    "batch_size = 5000  # Adjust lower if memory crashes again\n",
    "n_cells = atac_X.shape[0]\n",
    "result_chunks = []\n",
    "\n",
    "print(\"Checkpoint D\")\n",
    "print(\"Performing matrix multiplication in batches...\")\n",
    "for start in tqdm(range(0, n_cells, batch_size)):\n",
    "    end = min(start + batch_size, n_cells)\n",
    "    batch = atac_X[start:end, :]\n",
    "    chunk = batch @ peak_gene_map_csc   # cells x genes\n",
    "    chunk = chunk @ norm_diag           # normalize\n",
    "    result_chunks.append(chunk)\n",
    "\n",
    "print(\"Checkpoint E\")\n",
    "# --- Combine into final access matrix ---\n",
    "access_mat = sp.vstack(result_chunks)\n",
    "\n",
    "print(\"Checkpoint F\")"
   ]
  },
  {
   "cell_type": "code",
   "execution_count": 17,
   "id": "200cd52a-b449-4168-be02-4b1c07338b13",
   "metadata": {},
   "outputs": [],
   "source": [
    "#print(\"Checkpoint 0\")\n",
    "\n",
    "# Multiply: cells × peaks  @  peaks × genes  =  cells × genes\n",
    "#access_mat = atac.X @ peak_gene_map  # keep sparse\n",
    "\n",
    "#print(\"Checkpoint 1\")\n",
    "\n",
    "# Normalize by number of peaks per gene\n",
    "#peak_counts_per_gene = np.array(peak_gene_map.sum(axis=0)).flatten()\n",
    "\n",
    "#print(\"Checkpoint 2\")\n",
    "\n",
    "# Avoid division by zero\n",
    "#peak_counts_per_gene[peak_counts_per_gene == 0] = 1\n",
    "\n",
    "#print(\"Checkpoint 3\")\n",
    "\n",
    "# Construct a sparse diagonal matrix to divide columns\n",
    "#norm_diag = sp.diags(1 / peak_counts_per_gene)  # genes × genes\n",
    "\n",
    "#print(\"Checkpoint 4\")\n",
    "\n",
    "# This is safer than access_mat.multiply(...)\n",
    "#access_mat = access_mat @ norm_diag  # normalized access matrix\n",
    "\n",
    "#print(\"Checkpoint 5\")"
   ]
  },
  {
   "cell_type": "code",
   "execution_count": 18,
   "id": "bae4a86f-7d41-4baf-8646-c1b35d5c695a",
   "metadata": {},
   "outputs": [],
   "source": [
    "#access_mat = access_mat.toarray()\n",
    "atac_gene = anndata.AnnData(X=access_mat)\n",
    "atac_gene.obs_names = atac.obs_names\n",
    "atac_gene.var_names = genes"
   ]
  },
  {
   "cell_type": "code",
   "execution_count": 19,
   "id": "4ad2d843-47bf-42d8-b45c-d089c29a93ce",
   "metadata": {},
   "outputs": [
    {
     "name": "stdout",
     "output_type": "stream",
     "text": [
      "AnnData object with n_obs × n_vars = 138118 × 41092\n",
      "Index(['AGTTATGTCGAAGTAG-L8XR_210722_01_H07-1122543705',\n",
      "       'CCTTCGGTCAGCAAGA-L8XR_210722_01_H07-1122543705',\n",
      "       'TGAAGCAAGTAAGTGG-L8XR_210722_01_H07-1122543705',\n",
      "       'ACCACATAGGCATTGT-L8XR_210722_01_H07-1122543705'],\n",
      "      dtype='object', name='index')\n",
      "Index(['RPL14P5', 'IL3RA', 'P2RY8', 'SLC25A6'], dtype='object')\n",
      "[[0.         0.16088198 0.11897197 0.59485984]\n",
      " [0.         0.         0.         0.        ]\n",
      " [0.         0.17667045 0.80321226 2.14543366]\n",
      " [0.         0.         0.         0.79496056]\n",
      " [0.         0.         0.         0.48855361]\n",
      " [0.         0.04426422 0.         0.56558943]\n",
      " [0.         0.06854757 0.         1.09846878]\n",
      " [0.         0.         0.         0.94654435]\n",
      " [0.         0.         0.         0.        ]\n",
      " [0.         0.0734456  0.04451069 0.5096451 ]\n",
      " [0.         0.         0.         0.        ]\n",
      " [0.         0.         0.         0.        ]\n",
      " [0.         0.0266467  0.         0.52678633]\n",
      " [0.         0.07518224 0.         0.53797466]]\n"
     ]
    }
   ],
   "source": [
    "print(atac_gene)\n",
    "print(atac_gene.obs_names[1:5])\n",
    "print(atac_gene.var_names[1:5])\n",
    "test = atac_gene.X[1:15,1:5].toarray()\n",
    "print(test)"
   ]
  },
  {
   "cell_type": "code",
   "execution_count": 20,
   "id": "181e8625-5105-48a5-b8da-b934bc01c798",
   "metadata": {},
   "outputs": [
    {
     "name": "stdout",
     "output_type": "stream",
     "text": [
      "Index(['RPL14P5', 'IL3RA', 'P2RY8', 'SLC25A6'], dtype='object')\n",
      "Index([], dtype='object')\n"
     ]
    }
   ],
   "source": [
    "print(atac_gene.var.index[1:5])\n",
    "print(atac_gene.var.columns[1:5])"
   ]
  },
  {
   "cell_type": "code",
   "execution_count": 21,
   "id": "a0b2d3cd-716b-4e3c-b588-f37555a6d4f8",
   "metadata": {},
   "outputs": [],
   "source": [
    "atac_gene.var.index = atac_gene.var.index.astype(str)\n",
    "atac_gene.var.columns = atac_gene.var.columns.astype(str)\n",
    "atac_gene.write(\"/mnt/e/Projects/Brain/SEA_AD_analysis/results/aggregated_multiomic/aggregated_atac_geneLevel_data.h5ad\")"
   ]
  },
  {
   "cell_type": "code",
   "execution_count": null,
   "id": "23a7a5bb-1fda-4f22-9df0-be98a033eb11",
   "metadata": {},
   "outputs": [
    {
     "name": "stdout",
     "output_type": "stream",
     "text": [
      "AnnData object with n_obs × n_vars = 138118 × 36601\n",
      "    obs: 'sample_id', 'Neurotypical reference', 'Donor ID', 'Organism', 'Brain Region', 'Sex', 'Gender', 'Age at Death', 'Race (choice=White)', 'Race (choice=Black/ African American)', 'Race (choice=Asian)', 'Race (choice=American Indian/ Alaska Native)', 'Race (choice=Native Hawaiian or Pacific Islander)', 'Race (choice=Unknown or unreported)', 'Race (choice=Other)', 'specify other race', 'Hispanic/Latino', 'Highest level of education', 'Years of education', 'PMI', 'Fresh Brain Weight', 'Brain pH', 'Overall AD neuropathological Change', 'Thal', 'Braak', 'CERAD score', 'Overall CAA Score', 'Highest Lewy Body Disease', 'Total Microinfarcts (not observed grossly)', 'Total microinfarcts in screening sections', 'Atherosclerosis', 'Arteriolosclerosis', 'LATE', 'Cognitive Status', 'Last CASI Score', 'Interval from last CASI in months', 'Last MMSE Score', 'Interval from last MMSE in months', 'Last MOCA Score', 'Interval from last MOCA in months', 'APOE Genotype', 'Primary Study Name', 'Secondary Study Name', 'NeuN positive fraction on FANS', 'RIN', 'cell_prep_type', 'facs_population_plan', 'rna_amplification', 'sample_name', 'sample_quantity_count', 'expc_cell_capture', 'method', 'pcr_cycles', 'percent_cdna_longer_than_400bp', 'rna_amplification_pass_fail', 'amplified_quantity_ng', 'load_name', 'library_prep', 'library_input_ng', 'r1_index', 'avg_size_bp', 'quantification_fmol', 'library_prep_pass_fail', 'exp_component_vendor_name', 'batch_vendor_name', 'experiment_component_failed', 'alignment', 'Genome', 'ar_id', 'bc', 'GEX_Estimated_number_of_cells', 'GEX_number_of_reads', 'GEX_sequencing_saturation', 'GEX_Mean_raw_reads_per_cell', 'GEX_Q30_bases_in_barcode', 'GEX_Q30_bases_in_read_2', 'GEX_Q30_bases_in_UMI', 'GEX_Percent_duplicates', 'GEX_Q30_bases_in_sample_index_i1', 'GEX_Q30_bases_in_sample_index_i2', 'GEX_Reads_with_TSO', 'GEX_Sequenced_read_pairs', 'GEX_Valid_UMIs', 'GEX_Valid_barcodes', 'GEX_Reads_mapped_to_genome', 'GEX_Reads_mapped_confidently_to_genome', 'GEX_Reads_mapped_confidently_to_intergenic_regions', 'GEX_Reads_mapped_confidently_to_intronic_regions', 'GEX_Reads_mapped_confidently_to_exonic_regions', 'GEX_Reads_mapped_confidently_to_transcriptome', 'GEX_Reads_mapped_antisense_to_gene', 'GEX_Fraction_of_transcriptomic_reads_in_cells', 'GEX_Total_genes_detected', 'GEX_Median_UMI_counts_per_cell', 'GEX_Median_genes_per_cell', 'Multiome_Feature_linkages_detected', 'Multiome_Linked_genes', 'Multiome_Linked_peaks', 'ATAC_Confidently_mapped_read_pairs', 'ATAC_Fraction_of_genome_in_peaks', 'ATAC_Fraction_of_high_quality_fragments_in_cells', 'ATAC_Fraction_of_high_quality_fragments_overlapping_TSS', 'ATAC_Fraction_of_high_quality_fragments_overlapping_peaks', 'ATAC_Fraction_of_transposition_events_in_peaks_in_cells', 'ATAC_Mean_raw_read_pairs_per_cell', 'ATAC_Median_high_quality_fragments_per_cell', 'ATAC_Non-nuclear_read_pairs', 'ATAC_Number_of_peaks', 'ATAC_Percent_duplicates', 'ATAC_Q30_bases_in_barcode', 'ATAC_Q30_bases_in_read_1', 'ATAC_Q30_bases_in_read_2', 'ATAC_Q30_bases_in_sample_index_i1', 'ATAC_Sequenced_read_pairs', 'ATAC_TSS_enrichment_score', 'ATAC_Unmapped_read_pairs', 'ATAC_Valid_barcodes', 'Number of mapped reads', 'Number of unmapped reads', 'Number of multimapped reads', 'Number of reads', 'Number of UMIs', 'Genes detected', 'Doublet score', 'Fraction mitochondrial UMIs', 'Used in analysis', 'Class confidence', 'Class', 'Subclass confidence', 'Subclass', 'Supertype confidence', 'Supertype (non-expanded)', 'Supertype', 'Continuous Pseudo-progression Score', 'Severely Affected Donor', 'donor_id'\n",
      "    var: 'gene_ids', 'feature_types'\n",
      "    uns: 'data_type', 'seurat_version'\n",
      "    obsm: 'X_scVI', 'X_umap'\n",
      "    layers: 'UMIs'\n"
     ]
    }
   ],
   "source": [
    "\n",
    "rna = sc.read_h5ad(\"/mnt/e/Projects/Brain/SEA_AD_analysis/results/aggregated_multiomic/aggregated_rna_data.h5ad\")\n",
    "print(rna)\n",
    "sc.pp.filter_cells(rna, min_genes=200)\n",
    "sc.pp.filter_genes(rna, min_cells=3)\n",
    "sc.pp.normalize_total(rna, target_sum=1e4)\n",
    "sc.pp.log1p(rna)\n",
    "sc.pp.highly_variable_genes(rna, n_top_genes=2000)\n",
    "rna = rna[:, rna.var.highly_variable]\n",
    "sc.pp.scale(rna)\n",
    "sc.tl.pca(rna)\n",
    "print(rna)\n"
   ]
  },
  {
   "cell_type": "code",
   "execution_count": null,
   "id": "767993ff-fc89-4f54-8324-80ad2ba020b0",
   "metadata": {},
   "outputs": [],
   "source": [
    "from sklearn.cross_decomposition import CCA\n",
    "\n",
    "# Reduce dimensionality\n",
    "sc.pp.pca(rna, n_comps=30)\n",
    "sc.pp.pca(atac_gene, n_comps=30)\n",
    "\n",
    "cca = CCA(n_components=20)\n",
    "rna_cca, atac_cca = cca.fit_transform(rna.obsm[\"X_pca\"], atac_gene.obsm[\"X_pca\"])"
   ]
  },
  {
   "cell_type": "code",
   "execution_count": null,
   "id": "b6a0b083-968f-4b2e-85e4-45bfb601e601",
   "metadata": {},
   "outputs": [],
   "source": [
    "shared_embedding = np.concatenate([rna_cca, atac_cca])"
   ]
  },
  {
   "cell_type": "code",
   "execution_count": null,
   "id": "d6a3c206-73db-4811-8c53-a39540299fd8",
   "metadata": {},
   "outputs": [],
   "source": [
    "# Combine\n",
    "joint = anndata.AnnData(X=shared_embedding)\n",
    "joint.obs[\"modality\"] = [\"rna\"] * rna.n_obs + [\"atac\"] * atac.n_obs\n",
    "\n",
    "sc.pp.neighbors(joint, n_neighbors=15)\n",
    "sc.tl.umap(joint)\n",
    "sc.tl.leiden(joint)\n",
    "sc.pl.umap(joint, color=[\"modality\", \"leiden\"])"
   ]
  },
  {
   "cell_type": "code",
   "execution_count": null,
   "id": "8984ee7f-a3ac-49c0-8727-83ec8f2e7105",
   "metadata": {},
   "outputs": [],
   "source": [
    "joint.obs[\"Subclass\"] = (\n",
    "    list(rna.obs[\"Subclass\"] if \"Subclass\" in rna.obs else [\"NA\"] * rna.n_obs)\n",
    "    + list(atac.obs[\"Subclass\"])\n",
    ")"
   ]
  },
  {
   "cell_type": "code",
   "execution_count": null,
   "id": "c64059d6-c239-44ed-b864-16c0364227fb",
   "metadata": {},
   "outputs": [],
   "source": [
    "print(joint.obs.columns)"
   ]
  },
  {
   "cell_type": "code",
   "execution_count": null,
   "id": "aca00134-05f0-453a-815d-78d2f080ad41",
   "metadata": {},
   "outputs": [],
   "source": [
    "sc.pl.umap(joint, color=[\"Subclass\"])"
   ]
  },
  {
   "cell_type": "code",
   "execution_count": null,
   "id": "5498fa3f-79dd-4c83-926f-8a5be99ebbf4",
   "metadata": {},
   "outputs": [],
   "source": []
  }
 ],
 "metadata": {
  "kernelspec": {
   "display_name": "Python (rna_atac_env)",
   "language": "python",
   "name": "rna_atac_env"
  },
  "language_info": {
   "codemirror_mode": {
    "name": "ipython",
    "version": 3
   },
   "file_extension": ".py",
   "mimetype": "text/x-python",
   "name": "python",
   "nbconvert_exporter": "python",
   "pygments_lexer": "ipython3",
   "version": "3.10.18"
  }
 },
 "nbformat": 4,
 "nbformat_minor": 5
}
